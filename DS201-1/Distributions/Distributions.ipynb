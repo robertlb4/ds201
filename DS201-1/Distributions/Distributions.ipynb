{
 "cells": [
  {
   "cell_type": "markdown",
   "metadata": {},
   "source": [
    "# Distributions"
   ]
  },
  {
   "cell_type": "code",
   "execution_count": 1,
   "metadata": {},
   "outputs": [],
   "source": [
    "import numpy as np\n",
    "import pandas as pd\n",
    "import matplotlib.pyplot as plt"
   ]
  },
  {
   "cell_type": "code",
   "execution_count": 2,
   "metadata": {},
   "outputs": [],
   "source": [
    "%matplotlib inline"
   ]
  },
  {
   "cell_type": "markdown",
   "metadata": {},
   "source": [
    "## Load Seasons Data"
   ]
  },
  {
   "cell_type": "code",
   "execution_count": 3,
   "metadata": {},
   "outputs": [],
   "source": [
    "nba = pd.read_csv(\"./data/season_stats.csv\")"
   ]
  },
  {
   "cell_type": "code",
   "execution_count": 25,
   "metadata": {},
   "outputs": [
    {
     "data": {
      "text/html": [
       "<div>\n",
       "<style scoped>\n",
       "    .dataframe tbody tr th:only-of-type {\n",
       "        vertical-align: middle;\n",
       "    }\n",
       "\n",
       "    .dataframe tbody tr th {\n",
       "        vertical-align: top;\n",
       "    }\n",
       "\n",
       "    .dataframe thead th {\n",
       "        text-align: right;\n",
       "    }\n",
       "</style>\n",
       "<table border=\"1\" class=\"dataframe\">\n",
       "  <thead>\n",
       "    <tr style=\"text-align: right;\">\n",
       "      <th></th>\n",
       "      <th>Year</th>\n",
       "      <th>Player</th>\n",
       "      <th>Pos</th>\n",
       "      <th>Age</th>\n",
       "      <th>Tm</th>\n",
       "      <th>G</th>\n",
       "      <th>GS</th>\n",
       "      <th>MP</th>\n",
       "      <th>PER</th>\n",
       "      <th>TS%</th>\n",
       "      <th>...</th>\n",
       "      <th>FT%</th>\n",
       "      <th>ORB</th>\n",
       "      <th>DRB</th>\n",
       "      <th>TRB</th>\n",
       "      <th>AST</th>\n",
       "      <th>STL</th>\n",
       "      <th>BLK</th>\n",
       "      <th>TOV</th>\n",
       "      <th>PF</th>\n",
       "      <th>PTS</th>\n",
       "    </tr>\n",
       "  </thead>\n",
       "  <tbody>\n",
       "    <tr>\n",
       "      <th>17766</th>\n",
       "      <td>2006.0</td>\n",
       "      <td>Doug Christie</td>\n",
       "      <td>SG</td>\n",
       "      <td>35.0</td>\n",
       "      <td>DAL</td>\n",
       "      <td>7.0</td>\n",
       "      <td>7.0</td>\n",
       "      <td>185.0</td>\n",
       "      <td>6.8</td>\n",
       "      <td>0.416</td>\n",
       "      <td>...</td>\n",
       "      <td>0.667</td>\n",
       "      <td>2.0</td>\n",
       "      <td>11.0</td>\n",
       "      <td>13.0</td>\n",
       "      <td>14.0</td>\n",
       "      <td>9.0</td>\n",
       "      <td>1.0</td>\n",
       "      <td>6.0</td>\n",
       "      <td>10.0</td>\n",
       "      <td>26.0</td>\n",
       "    </tr>\n",
       "    <tr>\n",
       "      <th>17865</th>\n",
       "      <td>2006.0</td>\n",
       "      <td>Adrian Griffin</td>\n",
       "      <td>SG</td>\n",
       "      <td>31.0</td>\n",
       "      <td>DAL</td>\n",
       "      <td>52.0</td>\n",
       "      <td>45.0</td>\n",
       "      <td>1245.0</td>\n",
       "      <td>11.6</td>\n",
       "      <td>0.521</td>\n",
       "      <td>...</td>\n",
       "      <td>0.774</td>\n",
       "      <td>75.0</td>\n",
       "      <td>152.0</td>\n",
       "      <td>227.0</td>\n",
       "      <td>89.0</td>\n",
       "      <td>51.0</td>\n",
       "      <td>9.0</td>\n",
       "      <td>39.0</td>\n",
       "      <td>113.0</td>\n",
       "      <td>237.0</td>\n",
       "    </tr>\n",
       "    <tr>\n",
       "      <th>996</th>\n",
       "      <td>1955.0</td>\n",
       "      <td>Pep Saul</td>\n",
       "      <td>SG</td>\n",
       "      <td>30.0</td>\n",
       "      <td>MLH</td>\n",
       "      <td>65.0</td>\n",
       "      <td>NaN</td>\n",
       "      <td>1139.0</td>\n",
       "      <td>8.1</td>\n",
       "      <td>0.402</td>\n",
       "      <td>...</td>\n",
       "      <td>0.772</td>\n",
       "      <td>NaN</td>\n",
       "      <td>NaN</td>\n",
       "      <td>134.0</td>\n",
       "      <td>104.0</td>\n",
       "      <td>NaN</td>\n",
       "      <td>NaN</td>\n",
       "      <td>NaN</td>\n",
       "      <td>126.0</td>\n",
       "      <td>287.0</td>\n",
       "    </tr>\n",
       "    <tr>\n",
       "      <th>8231</th>\n",
       "      <td>1986.0</td>\n",
       "      <td>Bob Thornton</td>\n",
       "      <td>PF</td>\n",
       "      <td>23.0</td>\n",
       "      <td>NYK</td>\n",
       "      <td>71.0</td>\n",
       "      <td>23.0</td>\n",
       "      <td>1323.0</td>\n",
       "      <td>6.9</td>\n",
       "      <td>0.487</td>\n",
       "      <td>...</td>\n",
       "      <td>0.531</td>\n",
       "      <td>113.0</td>\n",
       "      <td>177.0</td>\n",
       "      <td>290.0</td>\n",
       "      <td>43.0</td>\n",
       "      <td>30.0</td>\n",
       "      <td>7.0</td>\n",
       "      <td>83.0</td>\n",
       "      <td>209.0</td>\n",
       "      <td>336.0</td>\n",
       "    </tr>\n",
       "    <tr>\n",
       "      <th>24293</th>\n",
       "      <td>2017.0</td>\n",
       "      <td>Jerami Grant</td>\n",
       "      <td>SF</td>\n",
       "      <td>22.0</td>\n",
       "      <td>TOT</td>\n",
       "      <td>80.0</td>\n",
       "      <td>4.0</td>\n",
       "      <td>1531.0</td>\n",
       "      <td>10.1</td>\n",
       "      <td>0.556</td>\n",
       "      <td>...</td>\n",
       "      <td>0.612</td>\n",
       "      <td>38.0</td>\n",
       "      <td>168.0</td>\n",
       "      <td>206.0</td>\n",
       "      <td>46.0</td>\n",
       "      <td>33.0</td>\n",
       "      <td>79.0</td>\n",
       "      <td>44.0</td>\n",
       "      <td>149.0</td>\n",
       "      <td>437.0</td>\n",
       "    </tr>\n",
       "    <tr>\n",
       "      <th>10172</th>\n",
       "      <td>1991.0</td>\n",
       "      <td>Jack Haley</td>\n",
       "      <td>PF</td>\n",
       "      <td>27.0</td>\n",
       "      <td>NJN</td>\n",
       "      <td>78.0</td>\n",
       "      <td>18.0</td>\n",
       "      <td>1178.0</td>\n",
       "      <td>11.8</td>\n",
       "      <td>0.513</td>\n",
       "      <td>...</td>\n",
       "      <td>0.619</td>\n",
       "      <td>140.0</td>\n",
       "      <td>216.0</td>\n",
       "      <td>356.0</td>\n",
       "      <td>31.0</td>\n",
       "      <td>20.0</td>\n",
       "      <td>21.0</td>\n",
       "      <td>63.0</td>\n",
       "      <td>199.0</td>\n",
       "      <td>434.0</td>\n",
       "    </tr>\n",
       "    <tr>\n",
       "      <th>20073</th>\n",
       "      <td>2010.0</td>\n",
       "      <td>Monta Ellis</td>\n",
       "      <td>SG</td>\n",
       "      <td>24.0</td>\n",
       "      <td>GSW</td>\n",
       "      <td>64.0</td>\n",
       "      <td>64.0</td>\n",
       "      <td>2647.0</td>\n",
       "      <td>16.7</td>\n",
       "      <td>0.517</td>\n",
       "      <td>...</td>\n",
       "      <td>0.753</td>\n",
       "      <td>47.0</td>\n",
       "      <td>210.0</td>\n",
       "      <td>257.0</td>\n",
       "      <td>340.0</td>\n",
       "      <td>143.0</td>\n",
       "      <td>25.0</td>\n",
       "      <td>244.0</td>\n",
       "      <td>189.0</td>\n",
       "      <td>1631.0</td>\n",
       "    </tr>\n",
       "    <tr>\n",
       "      <th>12156</th>\n",
       "      <td>1995.0</td>\n",
       "      <td>Eric Piatkowski</td>\n",
       "      <td>SG</td>\n",
       "      <td>24.0</td>\n",
       "      <td>LAC</td>\n",
       "      <td>81.0</td>\n",
       "      <td>11.0</td>\n",
       "      <td>1208.0</td>\n",
       "      <td>13.9</td>\n",
       "      <td>0.559</td>\n",
       "      <td>...</td>\n",
       "      <td>0.783</td>\n",
       "      <td>63.0</td>\n",
       "      <td>70.0</td>\n",
       "      <td>133.0</td>\n",
       "      <td>77.0</td>\n",
       "      <td>37.0</td>\n",
       "      <td>15.0</td>\n",
       "      <td>63.0</td>\n",
       "      <td>150.0</td>\n",
       "      <td>566.0</td>\n",
       "    </tr>\n",
       "    <tr>\n",
       "      <th>19992</th>\n",
       "      <td>2010.0</td>\n",
       "      <td>Primoz Brezec</td>\n",
       "      <td>C</td>\n",
       "      <td>30.0</td>\n",
       "      <td>TOT</td>\n",
       "      <td>21.0</td>\n",
       "      <td>0.0</td>\n",
       "      <td>95.0</td>\n",
       "      <td>4.9</td>\n",
       "      <td>0.332</td>\n",
       "      <td>...</td>\n",
       "      <td>0.167</td>\n",
       "      <td>12.0</td>\n",
       "      <td>13.0</td>\n",
       "      <td>25.0</td>\n",
       "      <td>1.0</td>\n",
       "      <td>1.0</td>\n",
       "      <td>3.0</td>\n",
       "      <td>2.0</td>\n",
       "      <td>19.0</td>\n",
       "      <td>19.0</td>\n",
       "    </tr>\n",
       "    <tr>\n",
       "      <th>13003</th>\n",
       "      <td>1997.0</td>\n",
       "      <td>Michael Finley</td>\n",
       "      <td>SF</td>\n",
       "      <td>23.0</td>\n",
       "      <td>DAL</td>\n",
       "      <td>56.0</td>\n",
       "      <td>36.0</td>\n",
       "      <td>1994.0</td>\n",
       "      <td>14.5</td>\n",
       "      <td>0.527</td>\n",
       "      <td>...</td>\n",
       "      <td>0.807</td>\n",
       "      <td>54.0</td>\n",
       "      <td>198.0</td>\n",
       "      <td>252.0</td>\n",
       "      <td>156.0</td>\n",
       "      <td>50.0</td>\n",
       "      <td>20.0</td>\n",
       "      <td>120.0</td>\n",
       "      <td>96.0</td>\n",
       "      <td>897.0</td>\n",
       "    </tr>\n",
       "    <tr>\n",
       "      <th>592</th>\n",
       "      <td>1952.0</td>\n",
       "      <td>Red Rocha</td>\n",
       "      <td>C</td>\n",
       "      <td>28.0</td>\n",
       "      <td>SYR</td>\n",
       "      <td>66.0</td>\n",
       "      <td>NaN</td>\n",
       "      <td>2543.0</td>\n",
       "      <td>15.2</td>\n",
       "      <td>0.478</td>\n",
       "      <td>...</td>\n",
       "      <td>0.770</td>\n",
       "      <td>NaN</td>\n",
       "      <td>NaN</td>\n",
       "      <td>549.0</td>\n",
       "      <td>128.0</td>\n",
       "      <td>NaN</td>\n",
       "      <td>NaN</td>\n",
       "      <td>NaN</td>\n",
       "      <td>249.0</td>\n",
       "      <td>854.0</td>\n",
       "    </tr>\n",
       "    <tr>\n",
       "      <th>20188</th>\n",
       "      <td>2010.0</td>\n",
       "      <td>Didier Ilunga-Mbenga</td>\n",
       "      <td>C</td>\n",
       "      <td>29.0</td>\n",
       "      <td>LAL</td>\n",
       "      <td>49.0</td>\n",
       "      <td>2.0</td>\n",
       "      <td>355.0</td>\n",
       "      <td>11.6</td>\n",
       "      <td>0.471</td>\n",
       "      <td>...</td>\n",
       "      <td>0.474</td>\n",
       "      <td>32.0</td>\n",
       "      <td>55.0</td>\n",
       "      <td>87.0</td>\n",
       "      <td>8.0</td>\n",
       "      <td>5.0</td>\n",
       "      <td>29.0</td>\n",
       "      <td>15.0</td>\n",
       "      <td>54.0</td>\n",
       "      <td>105.0</td>\n",
       "    </tr>\n",
       "    <tr>\n",
       "      <th>3391</th>\n",
       "      <td>1972.0</td>\n",
       "      <td>Johnny Green</td>\n",
       "      <td>PF</td>\n",
       "      <td>38.0</td>\n",
       "      <td>CIN</td>\n",
       "      <td>82.0</td>\n",
       "      <td>NaN</td>\n",
       "      <td>1914.0</td>\n",
       "      <td>15.6</td>\n",
       "      <td>0.580</td>\n",
       "      <td>...</td>\n",
       "      <td>0.564</td>\n",
       "      <td>NaN</td>\n",
       "      <td>NaN</td>\n",
       "      <td>560.0</td>\n",
       "      <td>120.0</td>\n",
       "      <td>NaN</td>\n",
       "      <td>NaN</td>\n",
       "      <td>NaN</td>\n",
       "      <td>238.0</td>\n",
       "      <td>803.0</td>\n",
       "    </tr>\n",
       "    <tr>\n",
       "      <th>17994</th>\n",
       "      <td>2006.0</td>\n",
       "      <td>Darko Milicic</td>\n",
       "      <td>C</td>\n",
       "      <td>20.0</td>\n",
       "      <td>DET</td>\n",
       "      <td>25.0</td>\n",
       "      <td>0.0</td>\n",
       "      <td>140.0</td>\n",
       "      <td>10.1</td>\n",
       "      <td>0.507</td>\n",
       "      <td>...</td>\n",
       "      <td>0.375</td>\n",
       "      <td>10.0</td>\n",
       "      <td>18.0</td>\n",
       "      <td>28.0</td>\n",
       "      <td>9.0</td>\n",
       "      <td>3.0</td>\n",
       "      <td>15.0</td>\n",
       "      <td>15.0</td>\n",
       "      <td>25.0</td>\n",
       "      <td>37.0</td>\n",
       "    </tr>\n",
       "    <tr>\n",
       "      <th>11990</th>\n",
       "      <td>1995.0</td>\n",
       "      <td>Armen Gilliam</td>\n",
       "      <td>PF</td>\n",
       "      <td>30.0</td>\n",
       "      <td>NJN</td>\n",
       "      <td>82.0</td>\n",
       "      <td>30.0</td>\n",
       "      <td>2472.0</td>\n",
       "      <td>18.1</td>\n",
       "      <td>0.562</td>\n",
       "      <td>...</td>\n",
       "      <td>0.770</td>\n",
       "      <td>192.0</td>\n",
       "      <td>421.0</td>\n",
       "      <td>613.0</td>\n",
       "      <td>99.0</td>\n",
       "      <td>67.0</td>\n",
       "      <td>89.0</td>\n",
       "      <td>152.0</td>\n",
       "      <td>171.0</td>\n",
       "      <td>1212.0</td>\n",
       "    </tr>\n",
       "  </tbody>\n",
       "</table>\n",
       "<p>15 rows × 52 columns</p>\n",
       "</div>"
      ],
      "text/plain": [
       "         Year                Player Pos   Age   Tm     G    GS      MP   PER  \\\n",
       "17766  2006.0         Doug Christie  SG  35.0  DAL   7.0   7.0   185.0   6.8   \n",
       "17865  2006.0        Adrian Griffin  SG  31.0  DAL  52.0  45.0  1245.0  11.6   \n",
       "996    1955.0              Pep Saul  SG  30.0  MLH  65.0   NaN  1139.0   8.1   \n",
       "8231   1986.0          Bob Thornton  PF  23.0  NYK  71.0  23.0  1323.0   6.9   \n",
       "24293  2017.0          Jerami Grant  SF  22.0  TOT  80.0   4.0  1531.0  10.1   \n",
       "10172  1991.0            Jack Haley  PF  27.0  NJN  78.0  18.0  1178.0  11.8   \n",
       "20073  2010.0           Monta Ellis  SG  24.0  GSW  64.0  64.0  2647.0  16.7   \n",
       "12156  1995.0       Eric Piatkowski  SG  24.0  LAC  81.0  11.0  1208.0  13.9   \n",
       "19992  2010.0         Primoz Brezec   C  30.0  TOT  21.0   0.0    95.0   4.9   \n",
       "13003  1997.0        Michael Finley  SF  23.0  DAL  56.0  36.0  1994.0  14.5   \n",
       "592    1952.0             Red Rocha   C  28.0  SYR  66.0   NaN  2543.0  15.2   \n",
       "20188  2010.0  Didier Ilunga-Mbenga   C  29.0  LAL  49.0   2.0   355.0  11.6   \n",
       "3391   1972.0          Johnny Green  PF  38.0  CIN  82.0   NaN  1914.0  15.6   \n",
       "17994  2006.0         Darko Milicic   C  20.0  DET  25.0   0.0   140.0  10.1   \n",
       "11990  1995.0         Armen Gilliam  PF  30.0  NJN  82.0  30.0  2472.0  18.1   \n",
       "\n",
       "         TS%   ...      FT%    ORB    DRB    TRB    AST    STL   BLK    TOV  \\\n",
       "17766  0.416   ...    0.667    2.0   11.0   13.0   14.0    9.0   1.0    6.0   \n",
       "17865  0.521   ...    0.774   75.0  152.0  227.0   89.0   51.0   9.0   39.0   \n",
       "996    0.402   ...    0.772    NaN    NaN  134.0  104.0    NaN   NaN    NaN   \n",
       "8231   0.487   ...    0.531  113.0  177.0  290.0   43.0   30.0   7.0   83.0   \n",
       "24293  0.556   ...    0.612   38.0  168.0  206.0   46.0   33.0  79.0   44.0   \n",
       "10172  0.513   ...    0.619  140.0  216.0  356.0   31.0   20.0  21.0   63.0   \n",
       "20073  0.517   ...    0.753   47.0  210.0  257.0  340.0  143.0  25.0  244.0   \n",
       "12156  0.559   ...    0.783   63.0   70.0  133.0   77.0   37.0  15.0   63.0   \n",
       "19992  0.332   ...    0.167   12.0   13.0   25.0    1.0    1.0   3.0    2.0   \n",
       "13003  0.527   ...    0.807   54.0  198.0  252.0  156.0   50.0  20.0  120.0   \n",
       "592    0.478   ...    0.770    NaN    NaN  549.0  128.0    NaN   NaN    NaN   \n",
       "20188  0.471   ...    0.474   32.0   55.0   87.0    8.0    5.0  29.0   15.0   \n",
       "3391   0.580   ...    0.564    NaN    NaN  560.0  120.0    NaN   NaN    NaN   \n",
       "17994  0.507   ...    0.375   10.0   18.0   28.0    9.0    3.0  15.0   15.0   \n",
       "11990  0.562   ...    0.770  192.0  421.0  613.0   99.0   67.0  89.0  152.0   \n",
       "\n",
       "          PF     PTS  \n",
       "17766   10.0    26.0  \n",
       "17865  113.0   237.0  \n",
       "996    126.0   287.0  \n",
       "8231   209.0   336.0  \n",
       "24293  149.0   437.0  \n",
       "10172  199.0   434.0  \n",
       "20073  189.0  1631.0  \n",
       "12156  150.0   566.0  \n",
       "19992   19.0    19.0  \n",
       "13003   96.0   897.0  \n",
       "592    249.0   854.0  \n",
       "20188   54.0   105.0  \n",
       "3391   238.0   803.0  \n",
       "17994   25.0    37.0  \n",
       "11990  171.0  1212.0  \n",
       "\n",
       "[15 rows x 52 columns]"
      ]
     },
     "execution_count": 25,
     "metadata": {},
     "output_type": "execute_result"
    }
   ],
   "source": [
    "nba.sample(15)"
   ]
  },
  {
   "cell_type": "markdown",
   "metadata": {},
   "source": [
    "### Use `value_counts()` to view all unique values in a distribution and their frequencies."
   ]
  },
  {
   "cell_type": "code",
   "execution_count": 20,
   "metadata": {},
   "outputs": [
    {
     "data": {
      "text/plain": [
       "0.500    235\n",
       "0.000    201\n",
       "0.521    188\n",
       "0.533    186\n",
       "0.530    182\n",
       "Name: TS%, dtype: int64"
      ]
     },
     "execution_count": 20,
     "metadata": {},
     "output_type": "execute_result"
    }
   ],
   "source": [
    "shoot = nba['TS%'].value_counts()\n",
    "shoot.head()"
   ]
  },
  {
   "cell_type": "code",
   "execution_count": 21,
   "metadata": {},
   "outputs": [
    {
     "data": {
      "text/plain": [
       "0.000    201\n",
       "0.046      1\n",
       "0.051      2\n",
       "0.056      2\n",
       "0.063      1\n",
       "Name: TS%, dtype: int64"
      ]
     },
     "execution_count": 21,
     "metadata": {},
     "output_type": "execute_result"
    }
   ],
   "source": [
    "sorted_shoot = nba['TS%'].value_counts().sort_index()\n",
    "sorted_shoot.head()"
   ]
  },
  {
   "cell_type": "markdown",
   "metadata": {},
   "source": [
    "### Use matplotlib to plot a Histogram to Visualize a Distribution"
   ]
  },
  {
   "cell_type": "code",
   "execution_count": 31,
   "metadata": {},
   "outputs": [
    {
     "data": {
      "image/png": "[encoded data removed]",
      "text/plain": [
       "<Figure size 432x288 with 1 Axes>"
      ]
     },
     "metadata": {
      "needs_background": "light"
     },
     "output_type": "display_data"
    }
   ],
   "source": [
    "plt.hist(nba['TS%'], bins=50)\n",
    "\n",
    "# Make it pretty \n",
    "plt.title(\"True Shooting % Across all NBA Seasons\")\n",
    "plt.xlabel(\"True Shooting Percentage\")\n",
    "plt.ylabel(\"# of Players\")\n",
    "\n",
    "# \"print\" the plot\n",
    "plt.show()"
   ]
  },
  {
   "cell_type": "markdown",
   "metadata": {},
   "source": [
    "### How different is the NBA Now than in 1950?"
   ]
  },
  {
   "cell_type": "code",
   "execution_count": 32,
   "metadata": {},
   "outputs": [
    {
     "name": "stdout",
     "output_type": "stream",
     "text": [
      "1950.0 2017.0\n"
     ]
    }
   ],
   "source": [
    "first_year = nba['Year'].min()\n",
    "last_year = nba['Year'].max()\n",
    "print(first_year, last_year)"
   ]
  },
  {
   "cell_type": "code",
   "execution_count": 33,
   "metadata": {},
   "outputs": [],
   "source": [
    "y_1950 = nba[nba['Year'] == first_year]"
   ]
  },
  {
   "cell_type": "code",
   "execution_count": 34,
   "metadata": {},
   "outputs": [],
   "source": [
    "y_2017 = nba[nba['Year'] == last_year]"
   ]
  },
  {
   "cell_type": "code",
   "execution_count": 35,
   "metadata": {},
   "outputs": [
    {
     "data": {
      "image/png": "[encoded data removed]",
      "text/plain": [
       "<Figure size 432x288 with 1 Axes>"
      ]
     },
     "metadata": {
      "needs_background": "light"
     },
     "output_type": "display_data"
    }
   ],
   "source": [
    "plt.hist(y_1950['TS%'], bins=20)\n",
    "\n",
    "# Make it pretty \n",
    "plt.title(\"True Shooting % for 1950 Season\")\n",
    "plt.xlabel(\"True Shooting Percentage\")\n",
    "plt.ylabel(\"# of Players\")\n",
    "\n",
    "# \"print\" the plot\n",
    "plt.show()"
   ]
  },
  {
   "cell_type": "code",
   "execution_count": 36,
   "metadata": {},
   "outputs": [
    {
     "data": {
      "image/png": "[encoded data removed]",
      "text/plain": [
       "<Figure size 432x288 with 1 Axes>"
      ]
     },
     "metadata": {
      "needs_background": "light"
     },
     "output_type": "display_data"
    }
   ],
   "source": [
    "plt.hist(y_2017['TS%'], bins=20)\n",
    "\n",
    "# Make it pretty \n",
    "plt.title(\"True Shooting % for 2017 Season\")\n",
    "plt.xlabel(\"True Shooting Percentage\")\n",
    "plt.ylabel(\"# of Players\")\n",
    "\n",
    "# \"print\" the plot\n",
    "plt.show()"
   ]
  },
  {
   "cell_type": "markdown",
   "metadata": {},
   "source": [
    "Using only the data from the Histograms for both years... What has happened to True Shooting % between 1950 and 2017?"
   ]
  },
  {
   "cell_type": "markdown",
   "metadata": {},
   "source": [
    "##### majority of players have seen a roughly 10% increase in true shooting percentage.  Additionally a larger number of players are grouping in the middle distribution."
   ]
  },
  {
   "cell_type": "markdown",
   "metadata": {},
   "source": [
    "## Load Player Data"
   ]
  },
  {
   "cell_type": "code",
   "execution_count": 38,
   "metadata": {},
   "outputs": [
    {
     "data": {
      "text/html": [
       "<div>\n",
       "<style scoped>\n",
       "    .dataframe tbody tr th:only-of-type {\n",
       "        vertical-align: middle;\n",
       "    }\n",
       "\n",
       "    .dataframe tbody tr th {\n",
       "        vertical-align: top;\n",
       "    }\n",
       "\n",
       "    .dataframe thead th {\n",
       "        text-align: right;\n",
       "    }\n",
       "</style>\n",
       "<table border=\"1\" class=\"dataframe\">\n",
       "  <thead>\n",
       "    <tr style=\"text-align: right;\">\n",
       "      <th></th>\n",
       "      <th>name</th>\n",
       "      <th>year_start</th>\n",
       "      <th>year_end</th>\n",
       "      <th>position</th>\n",
       "      <th>height</th>\n",
       "      <th>weight</th>\n",
       "      <th>birth_date</th>\n",
       "      <th>college</th>\n",
       "    </tr>\n",
       "  </thead>\n",
       "  <tbody>\n",
       "    <tr>\n",
       "      <th>0</th>\n",
       "      <td>Alaa Abdelnaby</td>\n",
       "      <td>1991</td>\n",
       "      <td>1995</td>\n",
       "      <td>F-C</td>\n",
       "      <td>6-10</td>\n",
       "      <td>240.0</td>\n",
       "      <td>June 24, 1968</td>\n",
       "      <td>Duke University</td>\n",
       "    </tr>\n",
       "    <tr>\n",
       "      <th>1</th>\n",
       "      <td>Zaid Abdul-Aziz</td>\n",
       "      <td>1969</td>\n",
       "      <td>1978</td>\n",
       "      <td>C-F</td>\n",
       "      <td>6-9</td>\n",
       "      <td>235.0</td>\n",
       "      <td>April 7, 1946</td>\n",
       "      <td>Iowa State University</td>\n",
       "    </tr>\n",
       "    <tr>\n",
       "      <th>2</th>\n",
       "      <td>Kareem Abdul-Jabbar</td>\n",
       "      <td>1970</td>\n",
       "      <td>1989</td>\n",
       "      <td>C</td>\n",
       "      <td>7-2</td>\n",
       "      <td>225.0</td>\n",
       "      <td>April 16, 1947</td>\n",
       "      <td>University of California, Los Angeles</td>\n",
       "    </tr>\n",
       "    <tr>\n",
       "      <th>3</th>\n",
       "      <td>Mahmoud Abdul-Rauf</td>\n",
       "      <td>1991</td>\n",
       "      <td>2001</td>\n",
       "      <td>G</td>\n",
       "      <td>6-1</td>\n",
       "      <td>162.0</td>\n",
       "      <td>March 9, 1969</td>\n",
       "      <td>Louisiana State University</td>\n",
       "    </tr>\n",
       "    <tr>\n",
       "      <th>4</th>\n",
       "      <td>Tariq Abdul-Wahad</td>\n",
       "      <td>1998</td>\n",
       "      <td>2003</td>\n",
       "      <td>F</td>\n",
       "      <td>6-6</td>\n",
       "      <td>223.0</td>\n",
       "      <td>November 3, 1974</td>\n",
       "      <td>San Jose State University</td>\n",
       "    </tr>\n",
       "  </tbody>\n",
       "</table>\n",
       "</div>"
      ],
      "text/plain": [
       "                  name  year_start  year_end position height  weight  \\\n",
       "0       Alaa Abdelnaby        1991      1995      F-C   6-10   240.0   \n",
       "1      Zaid Abdul-Aziz        1969      1978      C-F    6-9   235.0   \n",
       "2  Kareem Abdul-Jabbar        1970      1989        C    7-2   225.0   \n",
       "3   Mahmoud Abdul-Rauf        1991      2001        G    6-1   162.0   \n",
       "4    Tariq Abdul-Wahad        1998      2003        F    6-6   223.0   \n",
       "\n",
       "         birth_date                                college  \n",
       "0     June 24, 1968                        Duke University  \n",
       "1     April 7, 1946                  Iowa State University  \n",
       "2    April 16, 1947  University of California, Los Angeles  \n",
       "3     March 9, 1969             Louisiana State University  \n",
       "4  November 3, 1974              San Jose State University  "
      ]
     },
     "execution_count": 38,
     "metadata": {},
     "output_type": "execute_result"
    }
   ],
   "source": [
    "players = pd.read_csv('./data/player_data.csv')\n",
    "players.head()"
   ]
  },
  {
   "cell_type": "markdown",
   "metadata": {},
   "source": [
    "### Does The College Attended affect performance in NBA?"
   ]
  },
  {
   "cell_type": "code",
   "execution_count": 41,
   "metadata": {},
   "outputs": [],
   "source": [
    "top_5_colleges = ['University of Kentucky',\n",
    "                  'Duke University',\n",
    "                  'University of Kansas',\n",
    "                  'Syracuse University',\n",
    "                  'University of California, Los Angeles',\n",
    "                 ]"
   ]
  },
  {
   "cell_type": "code",
   "execution_count": 45,
   "metadata": {},
   "outputs": [],
   "source": [
    "# Check \"college\" column against top_5_colleges\n",
    "in_top_5_colleges = players['college'].isin(top_5_colleges)\n",
    "\n",
    "# print(in_top_5_colleges)"
   ]
  },
  {
   "cell_type": "code",
   "execution_count": 43,
   "metadata": {},
   "outputs": [],
   "source": [
    "# index entire players df by \"in_top_5\"\n",
    "players_in_top_5 = players[in_top_5_colleges]['name']"
   ]
  },
  {
   "cell_type": "code",
   "execution_count": 46,
   "metadata": {},
   "outputs": [
    {
     "data": {
      "text/plain": [
       "(2198, 52)"
      ]
     },
     "execution_count": 46,
     "metadata": {},
     "output_type": "execute_result"
    }
   ],
   "source": [
    "top_college = nba[nba['Player'].isin(players_in_top_5)]\n",
    "top_college.shape"
   ]
  },
  {
   "cell_type": "code",
   "execution_count": 47,
   "metadata": {},
   "outputs": [
    {
     "data": {
      "text/plain": [
       "(22493, 52)"
      ]
     },
     "execution_count": 47,
     "metadata": {},
     "output_type": "execute_result"
    }
   ],
   "source": [
    "bottom_college = nba[~nba['Player'].isin(players_in_top_5)]\n",
    "bottom_college.shape"
   ]
  },
  {
   "cell_type": "markdown",
   "metadata": {},
   "source": [
    "#### Plot the Players not from Top 5"
   ]
  },
  {
   "cell_type": "code",
   "execution_count": 48,
   "metadata": {},
   "outputs": [
    {
     "data": {
      "image/png": "[encoded data removed]",
      "text/plain": [
       "<Figure size 432x288 with 1 Axes>"
      ]
     },
     "metadata": {
      "needs_background": "light"
     },
     "output_type": "display_data"
    }
   ],
   "source": [
    "plt.hist(bottom_college['PER'], bins=50)\n",
    "\n",
    "# Make it pretty \n",
    "plt.title(\"PER for Players NOT from Top 5 Colleges\")\n",
    "plt.xlabel(\"Player Efficiency Rating\")\n",
    "plt.ylabel(\"# of Players\")\n",
    "\n",
    "# \"print\" the plot\n",
    "plt.show()"
   ]
  },
  {
   "cell_type": "markdown",
   "metadata": {},
   "source": [
    "#### Plot the Players from Top 5"
   ]
  },
  {
   "cell_type": "code",
   "execution_count": 49,
   "metadata": {},
   "outputs": [
    {
     "data": {
      "image/png": "[encoded data removed]",
      "text/plain": [
       "<Figure size 432x288 with 1 Axes>"
      ]
     },
     "metadata": {
      "needs_background": "light"
     },
     "output_type": "display_data"
    }
   ],
   "source": [
    "plt.hist(top_college['PER'], bins=50)\n",
    "\n",
    "# Make it pretty \n",
    "plt.title(\"PER for Players FROM Top 5 Colleges\")\n",
    "plt.xlabel(\"Player Efficiency Rating\")\n",
    "plt.ylabel(\"# of Players\")\n",
    "\n",
    "# \"print\" the plot\n",
    "plt.show()"
   ]
  },
  {
   "cell_type": "markdown",
   "metadata": {},
   "source": [
    "What conclusions can we draw about these 2 groups?"
   ]
  },
  {
   "cell_type": "code",
   "execution_count": null,
   "metadata": {},
   "outputs": [],
   "source": [
    "# Short answer"
   ]
  }
 ],
 "metadata": {
  "kernelspec": {
   "display_name": "Python 3",
   "language": "python",
   "name": "python3"
  },
  "language_info": {
   "codemirror_mode": {
    "name": "ipython",
    "version": 3
   },
   "file_extension": ".py",
   "mimetype": "text/x-python",
   "name": "python",
   "nbconvert_exporter": "python",
   "pygments_lexer": "ipython3",
   "version": "3.7.1"
  }
 },
 "nbformat": 4,
 "nbformat_minor": 2
}
